{
  "nbformat": 4,
  "nbformat_minor": 0,
  "metadata": {
    "colab": {
      "provenance": []
    },
    "kernelspec": {
      "name": "python3",
      "display_name": "Python 3"
    },
    "language_info": {
      "name": "python"
    }
  },
  "cells": [
    {
      "cell_type": "code",
      "execution_count": 1,
      "metadata": {
        "id": "wBEMBH1UhZCi"
      },
      "outputs": [],
      "source": [
        "import geopandas as gpd"
      ]
    },
    {
      "cell_type": "code",
      "source": [
        "shapefile = gpd.read_file(\"delhi_ncr_region.geojson\")\n"
      ],
      "metadata": {
        "id": "phVIFdwzhoRw"
      },
      "execution_count": 2,
      "outputs": []
    },
    {
      "cell_type": "code",
      "source": [
        "shapefile_utm = shapefile.to_crs(epsg=32644)"
      ],
      "metadata": {
        "id": "oEeaKfIKht8T"
      },
      "execution_count": 3,
      "outputs": []
    },
    {
      "cell_type": "code",
      "source": [
        "minx, miny, maxx, maxy = shapefile_utm.total_bounds"
      ],
      "metadata": {
        "id": "_SIuFtxPh2rZ"
      },
      "execution_count": 4,
      "outputs": []
    },
    {
      "cell_type": "code",
      "source": [
        "print(\"Bounding Box Coordinates (in meters):\")\n",
        "print(f\"minx = {minx}, miny = {miny}, maxx = {maxx}, maxy = {maxy}\")"
      ],
      "metadata": {
        "colab": {
          "base_uri": "https://localhost:8080/"
        },
        "id": "NA2Vrse_h9Iq",
        "outputId": "be2fda60-6ffa-4d27-b5b8-c112ba74872f"
      },
      "execution_count": 5,
      "outputs": [
        {
          "output_type": "stream",
          "name": "stdout",
          "text": [
            "Bounding Box Coordinates (in meters):\n",
            "minx = -39135.081494243466, miny = 2958988.235697051, maxx = 252193.69892669076, maxy = 3324410.040147016\n"
          ]
        }
      ]
    },
    {
      "cell_type": "code",
      "source": [
        "import geopandas as gpd\n",
        "import pandas as pd\n",
        "import numpy as np\n",
        "from shapely.geometry import box, Point\n"
      ],
      "metadata": {
        "id": "kYVybc_piVeJ"
      },
      "execution_count": 6,
      "outputs": []
    },
    {
      "cell_type": "code",
      "source": [
        "minx, miny, maxx, maxy =  -39135.081494243466, 2958988.235697051, 252193.69892669076, 3324410.040147016\n",
        "grid_size = 60000  # 60 km\n"
      ],
      "metadata": {
        "id": "nS6ybERBiXOJ"
      },
      "execution_count": 7,
      "outputs": []
    },
    {
      "cell_type": "code",
      "source": [
        "grid_cells = []\n",
        "centers = []\n",
        "corner_points = []"
      ],
      "metadata": {
        "id": "dOfjVeM-imCS"
      },
      "execution_count": 8,
      "outputs": []
    },
    {
      "cell_type": "code",
      "source": [
        "for x0 in np.arange(minx, maxx, grid_size):\n",
        "    for y0 in np.arange(miny, maxy, grid_size):\n",
        "        x1 = x0 + grid_size\n",
        "        y1 = y0 + grid_size\n",
        "        cell = box(x0, y0, x1, y1)\n",
        "        grid_cells.append(cell)\n",
        "        cx, cy = (x0 + x1) / 2, (y0 + y1) / 2\n",
        "        centers.append(Point(cx, cy))"
      ],
      "metadata": {
        "id": "b9lhGyc3iqUO"
      },
      "execution_count": 13,
      "outputs": []
    },
    {
      "cell_type": "code",
      "source": [
        "corner_points.extend([\n",
        "            Point(x0, y0),  # bottom-left\n",
        "            Point(x0, y1),  # top-left\n",
        "            Point(x1, y0),  # bottom-right\n",
        "            Point(x1, y1)   # top-right\n",
        "        ])\n"
      ],
      "metadata": {
        "id": "U9I_AY8BjBE5"
      },
      "execution_count": 14,
      "outputs": []
    },
    {
      "cell_type": "code",
      "source": [
        "grid_shapefile = gpd.GeoDataFrame(geometry=grid_cells, crs=\"EPSG:32644\")\n",
        "centers_shapefile  = gpd.GeoDataFrame(geometry=centers, crs=\"EPSG:32644\")\n",
        "corners_shapefile  = gpd.GeoDataFrame(geometry=corner_points, crs=\"EPSG:32644\")"
      ],
      "metadata": {
        "id": "x7Q4RU51jJOQ"
      },
      "execution_count": 15,
      "outputs": []
    },
    {
      "cell_type": "code",
      "source": [
        "grid_wgs = grid_shapefile.to_crs(epsg=4326)\n",
        "centers_wgs = centers_shapefile.to_crs(epsg=4326)\n",
        "corners_wgs = corners_shapefile.to_crs(epsg=4326)\n"
      ],
      "metadata": {
        "id": "GkPkpCscjRXo"
      },
      "execution_count": 16,
      "outputs": []
    },
    {
      "cell_type": "code",
      "source": [
        "center_coords = pd.DataFrame({\n",
        "    \"lat\": centers_wgs.geometry.y,\n",
        "    \"lon\": centers_wgs.geometry.x\n",
        "})\n",
        "print(\"Grid Cell Centers (Lat/Lon):\")\n",
        "print(center_coords.head())"
      ],
      "metadata": {
        "colab": {
          "base_uri": "https://localhost:8080/"
        },
        "id": "fRQR2m4hjblO",
        "outputId": "90b5a866-de45-4bd3-f48e-01ac322bc7ce"
      },
      "execution_count": 17,
      "outputs": [
        {
          "output_type": "stream",
          "name": "stdout",
          "text": [
            "Grid Cell Centers (Lat/Lon):\n",
            "         lat        lon\n",
            "0  26.929788  75.875616\n",
            "1  27.469304  75.850822\n",
            "2  28.008756  75.825328\n",
            "3  28.548145  75.799119\n",
            "4  29.087467  75.772179\n"
          ]
        }
      ]
    },
    {
      "cell_type": "code",
      "source": [
        "image_centers = [\n",
        "    {\"id\": \"img1\", \"lat\": 26.929788, \"lon\": 75.875616},\n",
        "    {\"id\": \"img2\", \"lat\": 27.469304, \"lon\": 75.850822},\n",
        "    {\"id\": \"img3\", \"lat\": 28.008756, \"lon\": 75.825328},\n",
        "    {\"id\": \"img4\", \"lat\": 28.548145, \"lon\": 75.799119},\n",
        "    {\"id\": \"img5\", \"lat\": 29.087467, \"lon\": 75.772179},\n",
        "]"
      ],
      "metadata": {
        "id": "Yw8JZ5Xljq3Z"
      },
      "execution_count": 18,
      "outputs": []
    },
    {
      "cell_type": "code",
      "source": [
        "df = pd.DataFrame(image_centers)\n",
        "df[\"geometry\"] = [Point(lon, lat) for lat, lon in zip(df[\"lat\"], df[\"lon\"])]\n",
        "image_gdf = gpd.GeoDataFrame(df, geometry=\"geometry\", crs=\"EPSG:4326\")\n"
      ],
      "metadata": {
        "id": "9xguCCCDkS9_"
      },
      "execution_count": 19,
      "outputs": []
    },
    {
      "cell_type": "code",
      "source": [
        "filtered = gpd.sjoin(image_gdf, grid_wgs, predicate=\"within\", how=\"inner\")"
      ],
      "metadata": {
        "id": "PHJfztqXkWzI"
      },
      "execution_count": 20,
      "outputs": []
    },
    {
      "cell_type": "code",
      "source": [
        "print(\"\\nImages Whose Centers Fall Within Grid:\")\n",
        "print(filtered[[\"id\", \"lat\", \"lon\"]])"
      ],
      "metadata": {
        "colab": {
          "base_uri": "https://localhost:8080/"
        },
        "id": "W_x9zUaNkaWP",
        "outputId": "f4cc156f-6fcd-4991-a568-99808b578c8c"
      },
      "execution_count": 21,
      "outputs": [
        {
          "output_type": "stream",
          "name": "stdout",
          "text": [
            "\n",
            "Images Whose Centers Fall Within Grid:\n",
            "     id        lat        lon\n",
            "0  img1  26.929788  75.875616\n",
            "0  img1  26.929788  75.875616\n",
            "1  img2  27.469304  75.850822\n",
            "1  img2  27.469304  75.850822\n",
            "2  img3  28.008756  75.825328\n",
            "2  img3  28.008756  75.825328\n",
            "3  img4  28.548145  75.799119\n",
            "3  img4  28.548145  75.799119\n",
            "4  img5  29.087467  75.772179\n",
            "4  img5  29.087467  75.772179\n"
          ]
        }
      ]
    },
    {
      "cell_type": "code",
      "source": [
        "num_before = image_gdf.shape[0]"
      ],
      "metadata": {
        "id": "LlXptOMzkkUm"
      },
      "execution_count": 22,
      "outputs": []
    },
    {
      "cell_type": "code",
      "source": [
        "num_after = filtered.shape[0]"
      ],
      "metadata": {
        "id": "Upjedg-ElOvv"
      },
      "execution_count": 23,
      "outputs": []
    },
    {
      "cell_type": "code",
      "source": [
        "print(f\"\\nNumber of images BEFORE filtering: {num_before}\")\n",
        "print(f\"Number of images AFTER filtering:  {num_after}\")"
      ],
      "metadata": {
        "colab": {
          "base_uri": "https://localhost:8080/"
        },
        "id": "g5d1NoiJlSym",
        "outputId": "20cb349a-49c4-4392-f6ba-471232e2dad5"
      },
      "execution_count": 24,
      "outputs": [
        {
          "output_type": "stream",
          "name": "stdout",
          "text": [
            "\n",
            "Number of images BEFORE filtering: 5\n",
            "Number of images AFTER filtering:  10\n"
          ]
        }
      ]
    }
  ]
}